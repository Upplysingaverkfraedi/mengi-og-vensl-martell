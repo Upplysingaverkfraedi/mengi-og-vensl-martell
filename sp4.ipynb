{
 "cells": [
  {
   "cell_type": "markdown",
   "metadata": {},
   "source": [
    "## 4. Vensl á heiltölum (25 stig)\n",
    "\n",
    "**Búið til vensl á mengi heiltalnanna $A = \\{1, 2, 3, 4\\}$ með fylki í `Python` eða `R` samkvæmt\n",
    "eftirfarandi leiðbeiningum:**\n",
    "\n",
    "1. Notið afmælisdagana ykkar til að setja slembifræ (e. random seed).\n",
    "2. Búið til $4 \\times 4$ fylki með slembibreyttum gildum sem eru 0 eða 1.\n",
    "3. Forritið virkni sem skoðar eiginleika venslanna: athugið hvort þau\n",
    "   séu sjálfhverf, samhverf, andsamhverf, og gegnvirk.\n",
    "4. Sannreynið niðurstöður forritsins með því að skoða venslin myndrænt með örvaneti.\n",
    "\n",
    "Athugið, þið þurfið að uppfæra `README` skjalið til að útskýra hvernig eigi að keyra kóðann ykkar\n",
    "(og hvaða pakka þarf að setja upp, ef við á). Þar sem þið eruð að endurtaka þetta fyrir allar\n",
    "afmælisdaga hópmeðlima þá er ráðlagt að setja upp fall sem tekur inn dagsetninguna og skilar\n",
    "niðurstöðum.\n",
    "\n",
    "### Python Kóði\n",
    "\n",
    "```python\n",
    "# Búa til slembifræ/seed út frá dagsetningunni\n",
    "seed = int(f\"{dd:02d}{mm:02d}{yyyy}\")\n",
    "np.random.seed(seed)\n",
    "\n",
    "# Búa til 4x4 slembifylki með 0 eða 1\n",
    "fylki = np.random.randint(0, 2, size=(4, 4))\n",
    "\n",
    "# Endirskrifa dagssetninguna á formið \"dd-mm-yyyy\"\n",
    "formatted_date = f\"{dd:02d}-{mm:02d}-{yyyy}\"\n",
    "\n",
    "# Prenta niðurstöður:\n",
    "print(f\"Fylkið fyrir dagsetninguna {formatted_date} og seed {seed}:\")\n",
    "print(fylki)\n",
    "print()\n",
    "```"
   ]
  },
  {
   "cell_type": "code",
   "execution_count": 5,
   "metadata": {},
   "outputs": [
    {
     "name": "stdout",
     "output_type": "stream",
     "text": [
      "Collecting numpy\n",
      "  Using cached numpy-2.1.0-cp312-cp312-macosx_11_0_arm64.whl.metadata (60 kB)\n",
      "Collecting matplotlib\n",
      "  Using cached matplotlib-3.9.2-cp312-cp312-macosx_11_0_arm64.whl.metadata (11 kB)\n",
      "Collecting networkx\n",
      "  Using cached networkx-3.3-py3-none-any.whl.metadata (5.1 kB)\n",
      "Collecting contourpy>=1.0.1 (from matplotlib)\n",
      "  Using cached contourpy-1.3.0-cp312-cp312-macosx_11_0_arm64.whl.metadata (5.4 kB)\n",
      "Collecting cycler>=0.10 (from matplotlib)\n",
      "  Using cached cycler-0.12.1-py3-none-any.whl.metadata (3.8 kB)\n",
      "Collecting fonttools>=4.22.0 (from matplotlib)\n",
      "  Using cached fonttools-4.53.1-cp312-cp312-macosx_11_0_arm64.whl.metadata (162 kB)\n",
      "Collecting kiwisolver>=1.3.1 (from matplotlib)\n",
      "  Using cached kiwisolver-1.4.5-cp312-cp312-macosx_11_0_arm64.whl.metadata (6.4 kB)\n",
      "Requirement already satisfied: packaging>=20.0 in /Users/brynjarari/Library/Python/3.12/lib/python/site-packages (from matplotlib) (24.1)\n",
      "Collecting pillow>=8 (from matplotlib)\n",
      "  Using cached pillow-10.4.0-cp312-cp312-macosx_11_0_arm64.whl.metadata (9.2 kB)\n",
      "Collecting pyparsing>=2.3.1 (from matplotlib)\n",
      "  Using cached pyparsing-3.1.4-py3-none-any.whl.metadata (5.1 kB)\n",
      "Requirement already satisfied: python-dateutil>=2.7 in /Users/brynjarari/Library/Python/3.12/lib/python/site-packages (from matplotlib) (2.9.0.post0)\n",
      "Requirement already satisfied: six>=1.5 in /Users/brynjarari/Library/Python/3.12/lib/python/site-packages (from python-dateutil>=2.7->matplotlib) (1.16.0)\n",
      "Using cached numpy-2.1.0-cp312-cp312-macosx_11_0_arm64.whl (13.5 MB)\n",
      "Using cached matplotlib-3.9.2-cp312-cp312-macosx_11_0_arm64.whl (7.8 MB)\n",
      "Using cached networkx-3.3-py3-none-any.whl (1.7 MB)\n",
      "Using cached contourpy-1.3.0-cp312-cp312-macosx_11_0_arm64.whl (251 kB)\n",
      "Using cached cycler-0.12.1-py3-none-any.whl (8.3 kB)\n",
      "Using cached fonttools-4.53.1-cp312-cp312-macosx_11_0_arm64.whl (2.2 MB)\n",
      "Using cached kiwisolver-1.4.5-cp312-cp312-macosx_11_0_arm64.whl (64 kB)\n",
      "Using cached pillow-10.4.0-cp312-cp312-macosx_11_0_arm64.whl (3.4 MB)\n",
      "Using cached pyparsing-3.1.4-py3-none-any.whl (104 kB)\n",
      "Installing collected packages: pyparsing, pillow, numpy, networkx, kiwisolver, fonttools, cycler, contourpy, matplotlib\n",
      "Successfully installed contourpy-1.3.0 cycler-0.12.1 fonttools-4.53.1 kiwisolver-1.4.5 matplotlib-3.9.2 networkx-3.3 numpy-2.1.0 pillow-10.4.0 pyparsing-3.1.4\n",
      "Note: you may need to restart the kernel to use updated packages.\n"
     ]
    }
   ],
   "source": [
    "pip install numpy matplotlib networkx"
   ]
  },
  {
   "cell_type": "code",
   "execution_count": 6,
   "metadata": {},
   "outputs": [
    {
     "name": "stdout",
     "output_type": "stream",
     "text": [
      "Fylkið fyrir dagsetninguna 03-02-2004 með seed 3022004:\n",
      "[[1 1 0 1]\n",
      " [0 1 0 0]\n",
      " [0 1 0 0]\n",
      " [1 0 0 1]]\n",
      "\n",
      "Fylkið er sjálfhverft: False\n",
      "Fylkið er samhverft: False\n",
      "Fylkið er andsamhverft: False\n",
      "Fylkið er gegnvirkt: False\n",
      "\n"
     ]
    },
    {
     "data": {
      "image/png": "[encoded data removed]",
      "text/plain": [
       "<Figure size 640x480 with 1 Axes>"
      ]
     },
     "metadata": {},
     "output_type": "display_data"
    }
   ],
   "source": [
    "import numpy as np\n",
    "import matplotlib.pyplot as plt\n",
    "import networkx as nx\n",
    "\n",
    "# Fall til að athuga eiginleika vensla\n",
    "def athuga_vensl(fylki):\n",
    "    n = fylki.shape[0]\n",
    "\n",
    "    # Athugar hvort fylkið sé sjálfhverft (reflexive)\n",
    "    sjalfhverf = np.all(np.diag(fylki) == 1)\n",
    "\n",
    "    # Athugar hvort fylkið sé samhverft (symmetric)\n",
    "    samhverf = np.all(fylki == fylki.T)\n",
    "\n",
    "    # Athugar hvort fylkið sé andsamhverft (antisymmetric)\n",
    "    andsamhverf = np.all((fylki * fylki.T) == np.diag(np.diag(fylki)))\n",
    "\n",
    "    # Athugar hvort fylkið sé gegnvirkt (transitive)\n",
    "    gegnvirk = np.all(np.dot(fylki, fylki) <= fylki)\n",
    "\n",
    "    return sjalfhverf, samhverf, andsamhverf, gegnvirk\n",
    "\n",
    "# Fall til að teikna örvanetið fyrir fylkið\n",
    "def teikna_orvanet(fylki):\n",
    "    G = nx.DiGraph()\n",
    "    n = fylki.shape[0]\n",
    "    nodes = list(range(1, n + 1))\n",
    "    G.add_nodes_from(nodes)\n",
    "    \n",
    "    for i in range(n):\n",
    "        for j in range(n):\n",
    "            if fylki[i, j] == 1:\n",
    "                G.add_edge(nodes[i], nodes[j])\n",
    "    \n",
    "    pos = nx.circular_layout(G)\n",
    "    nx.draw(G, pos, with_labels=True, node_color='lightblue', node_size=2000, arrowstyle='-|>', arrowsize=20)\n",
    "    plt.show()\n",
    "\n",
    "# Setja upp slembifræ út frá afmælisdegi\n",
    "def bua_til_fylki(dagur, manudur, ar):\n",
    "    seed = int(f\"{dagur:02d}{manudur:02d}{ar}\")\n",
    "    np.random.seed(seed)\n",
    "    \n",
    "    # Búa til 4x4 slembifylki með 0 eða 1\n",
    "    fylki = np.random.randint(0, 2, size=(4, 4))\n",
    "    \n",
    "    # Athuga eiginleika vensla\n",
    "    sjalfhverf, samhverf, andsamhverf, gegnvirk = athuga_vensl(fylki)\n",
    "    \n",
    "    # Prenta niðurstöður\n",
    "    print(f\"Fylkið fyrir dagsetninguna {dagur:02d}-{manudur:02d}-{ar} með seed {seed}:\")\n",
    "    print(fylki)\n",
    "    print()\n",
    "    print(f\"Fylkið er sjálfhverft: {sjalfhverf}\")\n",
    "    print(f\"Fylkið er samhverft: {samhverf}\")\n",
    "    print(f\"Fylkið er andsamhverft: {andsamhverf}\")\n",
    "    print(f\"Fylkið er gegnvirkt: {gegnvirk}\")\n",
    "    print()\n",
    "    \n",
    "    # Teikna örvanetið\n",
    "    teikna_orvanet(fylki)\n",
    "\n",
    "# Dæmi um keyrslu með dagsetningu\n",
    "bua_til_fylki(3, 2, 2004)\n"
   ]
  }
 ],
 "metadata": {
  "kernelspec": {
   "display_name": "Python 3",
   "language": "python",
   "name": "python3"
  },
  "language_info": {
   "codemirror_mode": {
    "name": "ipython",
    "version": 3
   },
   "file_extension": ".py",
   "mimetype": "text/x-python",
   "name": "python",
   "nbconvert_exporter": "python",
   "pygments_lexer": "ipython3",
   "version": "3.12.5"
  }
 },
 "nbformat": 4,
 "nbformat_minor": 2
}
