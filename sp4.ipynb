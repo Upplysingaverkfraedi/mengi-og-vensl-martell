{
 "cells": [
  {
   "cell_type": "markdown",
   "metadata": {},
   "source": [
    "## 4. Vensl á heiltölum (25 stig)\n",
    "\n",
    "**Búið til vensl á mengi heiltalnanna $A = \\{1, 2, 3, 4\\}$ með fylki í `Python` eða `R` samkvæmt\n",
    "eftirfarandi leiðbeiningum:**\n",
    "\n",
    "1. Notið afmælisdagana ykkar til að setja slembifræ (e. random seed).\n",
    "2. Búið til $4 \\times 4$ fylki með slembibreyttum gildum sem eru 0 eða 1.\n",
    "3. Forritið virkni sem skoðar eiginleika venslanna: athugið hvort þau\n",
    "   séu sjálfhverf, samhverf, andsamhverf, og gegnvirk.\n",
    "4. Sannreynið niðurstöður forritsins með því að skoða venslin myndrænt með örvaneti.\n",
    "\n",
    "Athugið, þið þurfið að uppfæra `README` skjalið til að útskýra hvernig eigi að keyra kóðann ykkar\n",
    "(og hvaða pakka þarf að setja upp, ef við á). Þar sem þið eruð að endurtaka þetta fyrir allar\n",
    "afmælisdaga hópmeðlima þá er ráðlagt að setja upp fall sem tekur inn dagsetninguna og skilar\n",
    "niðurstöðum.\n",
    "\n",
    "### Python Kóði\n",
    "\n",
    "```python\n",
    "# Búa til slembifræ/seed út frá dagsetningunni\n",
    "seed = int(f\"{dd:02d}{mm:02d}{yyyy}\")\n",
    "np.random.seed(seed)\n",
    "\n",
    "# Búa til 4x4 slembifylki með 0 eða 1\n",
    "fylki = np.random.randint(0, 2, size=(4, 4))\n",
    "\n",
    "# Endirskrifa dagssetninguna á formið \"dd-mm-yyyy\"\n",
    "formatted_date = f\"{dd:02d}-{mm:02d}-{yyyy}\"\n",
    "\n",
    "# Prenta niðurstöður:\n",
    "print(f\"Fylkið fyrir dagsetninguna {formatted_date} og seed {seed}:\")\n",
    "print(fylki)\n",
    "print()\n",
    "```"
   ]
  },
  {
   "cell_type": "markdown",
   "metadata": {},
   "source": [
    "Byrjum á því að búa til fall sem að skoðar eiginleika venslanna: athugið hvort það séu sjálfhverf, samhverf, andsamhverf, og gegnvirk.\n",
    "\n",
    "**Sjálfhverf:** Vensl eru samhverf er fyrir öll $i$, þá er $R(i,i) = 1$ (þ.e. allir í fylkinu hafa vensl við sjálfan sig)\n",
    "\n",
    "**Samhverf:** Vensli eru samhverf ef fyrir öll $i,j$ þá gildir að $R(i,j) = R(j,i)$\n",
    "\n",
    "**Andsamhverf:** Vensli eru andsamhverf ef fyrir öll $i,j$, ef $R(i,j) = 1$ og $i \\neq j$ þá er $R(j,i) = 0$.\n",
    "\n",
    "**Gegnvirk:** Vensl eru gegnvirk ef $R(i,j) = 1$ og $R(j,k) = 1$ þýðir að (R(i,k) = 1)"
   ]
  },
  {
   "cell_type": "code",
   "execution_count": 25,
   "metadata": {},
   "outputs": [],
   "source": [
    "\n",
    "def sjalfhverft(fylki):\n",
    "    # Athugar hvort fylkið sé sjálfhverft\n",
    "    for i in range(len(fylki)):\n",
    "        if fylki[i][i] != 1:\n",
    "            return False\n",
    "    return True\n",
    "\n",
    "def samhverf(fylki):\n",
    "    # Athugar hvort fylkið sé samhverft\n",
    "    for i in range(len(fylki)):\n",
    "        for j in range(len(fylki)):\n",
    "            if fylki[i][j] != fylki[j][i]:\n",
    "                return False\n",
    "    return True\n",
    "\n",
    "def adsamhverft(fylki):\n",
    "    # Athugar hvort fylkið sé andsamhverft\n",
    "    for i in range(len(fylki)):\n",
    "        for j in range(len(fylki)):\n",
    "            if i != j and fylki[i][j] == 1 and fylki[j][i] == 1:\n",
    "                return False\n",
    "    return True\n",
    "\n",
    "def gegnvirkt(fylki):\n",
    "    # Athugar hvort fylkið sé gegnvirkt\n",
    "    n = len(fylki)\n",
    "    for i in range(n):\n",
    "        for j in range(n):\n",
    "            for k in range(n):\n",
    "                if fylki[i][j] == 1 and fylki[j][k] == 1 and fylki[i][k] != 1:\n",
    "                    return False\n",
    "    return True\n",
    "\n",
    "\n",
    "def eiginleikar(fylki):\n",
    "    # Skilar öllum eiginleikum fylkis\n",
    "    return sjalfhverft(fylki), samhverf(fylki), adsamhverft(fylki), gegnvirkt(fylki)"
   ]
  },
  {
   "cell_type": "markdown",
   "metadata": {},
   "source": [
    "Næst búum við til fall sem að tekur saman niðurstöður með því að skoða venslin myndrænt með örvaneti."
   ]
  },
  {
   "cell_type": "code",
   "execution_count": 24,
   "metadata": {},
   "outputs": [],
   "source": [
    "import networkx as nx\n",
    "import matplotlib.pyplot as plt\n",
    "\n",
    "def graf(matrix):\n",
    "    # Búum til tóm directed graph (örvanet)\n",
    "    G = nx.DiGraph()\n",
    "    \n",
    "    # Mengi hnútanna er {1, 2, 3, 4}\n",
    "    nodes = range(1, len(matrix) + 1)\n",
    "    \n",
    "    # Bætum hnútum við netið\n",
    "    G.add_nodes_from(nodes)\n",
    "    \n",
    "    # Bætum örvum við eftir því hvort fylkið hefur vensl\n",
    "    for i in range(len(matrix)):\n",
    "        for j in range(len(matrix)):\n",
    "            if matrix[i][j] == 1:\n",
    "                G.add_edge(i + 1, j + 1)  # Bætum við ör frá i+1 til j+1\n",
    "    \n",
    "    # Teiknum netið\n",
    "    pos = nx.circular_layout(G)  # Hnútarnir verða á hring fyrir betri útlit\n",
    "    nx.draw(G, pos, with_labels=True, node_size=2000, node_color='lightblue', font_size=15, font_weight='bold', arrowsize=20)\n",
    "    plt.title(\"Vensl örvanet\")\n",
    "    plt.show()\n"
   ]
  },
  {
   "cell_type": "markdown",
   "metadata": {},
   "source": [
    "Búum til fall sem að tekur inn afmælisdag sem slembifræ til þess að búa 4x4 fylki með slembi gildum sem eru 0 eða 1. látum það síðan kalla á hin föllin fyrir ofan til þess að athuga eiginleika þess og teiknar upp niðurstöður"
   ]
  },
  {
   "cell_type": "code",
   "execution_count": 54,
   "metadata": {},
   "outputs": [],
   "source": [
    "def bua_til_fylki(dagur, manudur, ar):\n",
    "    seed = int(f\"{dagur:02d}{manudur:02d}{ar}\")\n",
    "    np.random.seed(seed)\n",
    "    \n",
    "    # Búa til 4x4 slembifylki með 0 eða 1\n",
    "    fylki = np.random.randint(0, 2, size=(4, 4))\n",
    "    \n",
    "    print(f\"Fylkið fyrir dagsetninguna {dagur:02d}-{manudur:02d}-{ar} með seed {seed}:\")\n",
    "    print(fylki)\n",
    "    print()\n",
    "    \n",
    "    #skoðar eiginleika fylkisins\n",
    "    eiginleikar(fylki)\n",
    "    print(\"Sjálfhverf:\", sjalfhverft(fylki))\n",
    "    print(\"Samhverf:\", samhverf(fylki))\n",
    "    print(\"Andsamhverf:\", adsamhverft(fylki))\n",
    "    print(\"Gegnvirk:\", gegnvirkt(fylki))\n",
    "    # Teiknum vensl örvanet\n",
    "    graf(fylki)\n",
    "    \n",
    "    "
   ]
  },
  {
   "cell_type": "code",
   "execution_count": 55,
   "metadata": {},
   "outputs": [
    {
     "name": "stdout",
     "output_type": "stream",
     "text": [
      "Fylkið fyrir dagsetninguna 13-12-2004 með seed 13122004:\n",
      "[[0 1 0 1]\n",
      " [0 0 0 1]\n",
      " [0 0 0 1]\n",
      " [0 0 0 0]]\n",
      "\n",
      "Sjálfhverf: False\n",
      "Samhverf: False\n",
      "Andsamhverf: True\n",
      "Gegnvirk: True\n"
     ]
    },
    {
     "data": {
      "image/png": "[encoded data removed]",
      "text/plain": [
       "<Figure size 640x480 with 1 Axes>"
      ]
     },
     "metadata": {},
     "output_type": "display_data"
    }
   ],
   "source": [
    "bua_til_fylki(13, 12, 2004)"
   ]
  },
  {
   "cell_type": "code",
   "execution_count": 56,
   "metadata": {},
   "outputs": [
    {
     "name": "stdout",
     "output_type": "stream",
     "text": [
      "Fylkið fyrir dagsetninguna 13-12-2004 með seed 13122004:\n",
      "[[0 1 0 1]\n",
      " [0 0 0 1]\n",
      " [0 0 0 1]\n",
      " [0 0 0 0]]\n",
      "\n",
      "Sjálfhverf: False\n",
      "Samhverf: False\n",
      "Andsamhverf: True\n",
      "Gegnvirk: True\n"
     ]
    },
    {
     "data": {
      "image/png": "[encoded data removed]",
      "text/plain": [
       "<Figure size 640x480 with 1 Axes>"
      ]
     },
     "metadata": {},
     "output_type": "display_data"
    }
   ],
   "source": [
    "day, month, year = input(\"Sláðu inn dag, mánuð og ár: \").split()\n",
    "dagur = int(day)\n",
    "man = int(month)\n",
    "ar = int(year)\n",
    "\n",
    "bua_til_fylki(dagur, man, ar)"
   ]
  }
 ],
 "metadata": {
  "kernelspec": {
   "display_name": "Python 3",
   "language": "python",
   "name": "python3"
  },
  "language_info": {
   "codemirror_mode": {
    "name": "ipython",
    "version": 3
   },
   "file_extension": ".py",
   "mimetype": "text/x-python",
   "name": "python",
   "nbconvert_exporter": "python",
   "pygments_lexer": "ipython3",
   "version": "3.12.5"
  }
 },
 "nbformat": 4,
 "nbformat_minor": 2
}
