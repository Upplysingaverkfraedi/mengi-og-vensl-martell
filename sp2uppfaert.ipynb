{
 "cells": [
  {
   "cell_type": "code",
   "execution_count": null,
   "metadata": {},
   "outputs": [],
   "source": []
  },
  {
   "cell_type": "markdown",
   "metadata": {},
   "source": [
    "$\\textbf{Spurning 2: Veldismengi (20 stig)}$
$\\newline$\n",
    "Látum P(A) vera veldismengið af menginu $A$. Sýnið hvort að $P(A) \\subseteq P(P(A))$ sé alltaf það sama. Rökstyðjið af hverju eða af hverju ekki. (20 stig)\n",
    "Skýrið ítarlega með röksemdum hvort mengið $P(A)$ sé eða sé ekki hlutmengi af $P(P(A))$. Notið dæmi til að styðja röksemdir ykkar.\n",
    "\n",
    "\n",
    "$\\textbf{LAUSN:}$\n",
    "\n",
    "\n",
    "\n",
    "Til að álykta hvort $P(A) \\subseteq P(P(A))$ sé alltaf rétt þurfum skulum við byrja að á að skoða skilgreiningar.\n",
    "\n",
    "\n",
    "$\\textbf{SKILGREINING:}$ $\\newline$\n",
    "Byrjum á að skilgreina $P(A)$. Við vitum að veldismengi $A$ er táknað $P(A)$. Það lýsir mengi af öllum undirmengjum $A$. $\\newline$ Höfum þá formlega uppsetningu á því $P(A) = \\{ \\, B \\mid B \\subseteq A \\, \\}$ skv. netbók.\n",
    "\n",
    "Skilgreinum þá næst $P(P(A))$ sem merkir þá mengið af öllum undirmengjum $P(A)$. $\\newline$ Höfum þá formlega uppsetningu á því $P(P(A)) = \\{ C \\mid C \\subseteq P(P(A)) \\}$ skv. netbók. Það þýðir að $P(P(A))$ inniheldur allar mögulegar samsetningar af undirmengjum $P(A)$.\n",
    "\n",
    "\n",
    "Til að svara spurningunni þurfum við að athuga hvort að hvert og eitt stak í $P(A)$ sé einnig stak í $P(P(A))$\n",
    "\n",
    "Látum $A = \\{1\\}$. Þá er:\n",
    "\n",
    "$P(A) = \\{\\emptyset, \\{1\\}\\}$\n",
    "\n",
    "$P(P(A)) = \\{\\emptyset, \\{\\emptyset\\}, \\{\\{1\\}\\}, \\{\\emptyset, \\{1\\}\\}\\}$\n",
    "\n",
    "Hér sjáum við að bæði $\\emptyset$ og $\\{1\\}$ (sem eru stök í $P(A)$) koma einnig fyrir í $P(P(A))$. Því er $P(A) \\subseteq P(P(A))$.\n",
    "\n",
    "Látum $A = \\{a, b\\}$. Þá er:\n",
    "\n",
    "$P(A) = \\{\\emptyset, \\{a\\}, \\{b\\}, \\{a, b\\}\\}$\n",
    "\n",
    "$P(P(A))$ inniheldur öll undirmengi af $P(A)$, þar á meðal $\\emptyset$, $\\{\\emptyset\\}$, $\\{\\{a\\}\\}$, o.s.frv.\n",
    "\n",
    "Allir hlutir í $P(A)$ koma fyrir í $P(P(A))$, svo $P(A) \\subseteq P(P(A))$.\n",
    "\n",
    "Ályktun: Því er $P(A) \\subseteq P(P(A))$ alltaf rétt.\n",
    "\n",
    "Til að svara spurningunni hvort mengið $P(A)$ sé eða sé ekki hlutmengi af $P(P(A))$:\n",
    "\n",
    "Við höfum þegar sannað að öll stök í $P(A)$ eru einnig stök í $P(P(A))$ þar sem $P(P(A))$ inniheldur öll undirmengi $P(A)$. Þetta þýðir að $P(A)$ er hlutmengi af $P(P(A))$ fyrir öll möguleg mengi $A$.\n",
    "\n",
    "Dæmi til sönnunar á þessari fullyrðingu:\n",
    "\n",
    "Ef $A = \\{a, b\\}$, $\\newline$\n",
    "þá er $P(A) = \\{\\emptyset, \\{a\\}, \\{b\\}, \\{a, b\\}\\}$. $\\newline$\n",
    "$P(P(A))$ inniheldur öll undirmengi af $P(A)$, þar á meðal $\\emptyset$, $\\{\\emptyset\\}$, $\\{\\{a\\}\\}$, $\\{\\{b\\}\\}$, $\\{\\{a\\}, \\{b\\}\\}$, $\\{\\{a, b\\}\\}$, o.s.frv.\n",
    "\n",
    "Allir þessir hlutar eru í $P(P(A))$, svo $P(A) \\subseteq P(P(A))$ er satt.\n",
    "\n",
    "Ályktun: Mengið $P(A)$ er alltaf hlutmengi af $P(P(A))$.\n",
    "\n",
    "\n",
    "$\\textbf{NIÐURSTAÐA:}$ $\\newline$\n",
    "\n",
    "Mengið $P(A)$ er alltaf hlutmengi af $P(P(A))$. \n",
    "Þetta er vegna þess að sérhvert hlutmengi af $A$ (þ.e. stak í $P(A)$) verður líka hlutmengi af $P(A)$, og þar með stak í $P(P(A))$.\n",
    "\n",
    "\n"
   ]
  }
 ],
 "metadata": {
  "language_info": {
   "name": "python"
  }
 },
 "nbformat": 4,
 "nbformat_minor": 2
}
